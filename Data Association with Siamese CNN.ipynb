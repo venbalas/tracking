{
 "cells": [
  {
   "cell_type": "code",
   "execution_count": 26,
   "metadata": {},
   "outputs": [
    {
     "name": "stdout",
     "output_type": "stream",
     "text": [
      "(None, 96, 57, 23)\n",
      "(None, 256, 26, 9)\n",
      "(None, 256, 11, 2)\n",
      "(None, 4096)\n",
      "(None, 1024)\n",
      "(None, 512)\n",
      "(None, 1)\n"
     ]
    }
   ],
   "source": [
    "from keras.layers import Input, Conv2D, Lambda, merge, Dense, Flatten,MaxPooling2D, Dropout\n",
    "from keras.layers.advanced_activations import PReLU\n",
    "from keras.models import Model, Sequential\n",
    "from keras.regularizers import l2\n",
    "from keras import backend as K\n",
    "from keras.optimizers import SGD,Adam\n",
    "from keras.losses import binary_crossentropy\n",
    "import numpy.random as rng\n",
    "import numpy as np\n",
    "import os\n",
    "import dill as pickle\n",
    "import matplotlib.pyplot as plt\n",
    "from sklearn.utils import shuffle\n",
    "K.set_image_dim_ordering('th')\n",
    "\n",
    "def contrastive_loss(y_true, y_pred):\n",
    "    '''Contrastive loss from Hadsell-et-al.'06\n",
    "    http://yann.lecun.com/exdb/publis/pdf/hadsell-chopra-lecun-06.pdf\n",
    "    '''\n",
    "    margin = 0.2\n",
    "    return K.mean(y_true * K.square(y_pred) +\n",
    "                  (1 - y_true) * K.square(K.maximum(margin - y_pred, 0)))\n",
    "\n",
    "convnet = Sequential()\n",
    "\n",
    "# C1\n",
    "convnet.add(Conv2D(96,(7,7), activation = 'linear', input_shape = (10,121,53)))\n",
    "convnet.add(PReLU())\n",
    "convnet.add(MaxPooling2D(pool_size=(2,2)))\n",
    "print(convnet.output_shape)\n",
    "\n",
    "# C2\n",
    "convnet.add(Conv2D(256,(5,5), activation = 'linear'))\n",
    "convnet.add(PReLU())\n",
    "convnet.add(MaxPooling2D(pool_size=(2,2)))\n",
    "print(convnet.output_shape)\n",
    "\n",
    "# C3\n",
    "convnet.add(Conv2D(256,(5,5), activation = 'linear'))\n",
    "convnet.add(PReLU())\n",
    "convnet.add(MaxPooling2D(pool_size=(2,2)))\n",
    "print(convnet.output_shape)\n",
    "\n",
    "# F4\n",
    "convnet.add(Flatten())\n",
    "convnet.add(Dense(4096, activation = 'linear'))\n",
    "convnet.add(PReLU())\n",
    "convnet.add(Dropout(0.5))\n",
    "print(convnet.output_shape)\n",
    "\n",
    "# F5\n",
    "convnet.add(Dense(1024, activation = 'linear'))\n",
    "convnet.add(PReLU())\n",
    "convnet.add(Dropout(0.5))\n",
    "print(convnet.output_shape)\n",
    "\n",
    "# F6\n",
    "convnet.add(Dense(512, activation = 'linear'))\n",
    "convnet.add(PReLU())\n",
    "convnet.add(Dropout(0.5))\n",
    "print(convnet.output_shape)\n",
    "\n",
    "# Softmax \n",
    "convnet.add(Dense(1, activation='softmax'))\n",
    "print(convnet.output_shape)\n",
    "\n",
    "convnet.compile(loss = contrastive_loss,\n",
    "             optimizer = 'adam',\n",
    "             metrics=['accuracy'])\n",
    "\n"
   ]
  }
 ],
 "metadata": {
  "kernelspec": {
   "display_name": "Python 3",
   "language": "python",
   "name": "python3"
  },
  "language_info": {
   "codemirror_mode": {
    "name": "ipython",
    "version": 3
   },
   "file_extension": ".py",
   "mimetype": "text/x-python",
   "name": "python",
   "nbconvert_exporter": "python",
   "pygments_lexer": "ipython3",
   "version": "3.5.2"
  }
 },
 "nbformat": 4,
 "nbformat_minor": 2
}
